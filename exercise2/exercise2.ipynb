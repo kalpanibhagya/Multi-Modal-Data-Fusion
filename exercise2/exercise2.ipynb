{
 "cells": [
  {
   "cell_type": "markdown",
   "metadata": {},
   "source": [
    "Before you turn this problem in, make sure everything runs as expected. First, **restart the kernel** (in the menubar, select Kernel$\\rightarrow$Restart) and then **run all cells** (in the menubar, select Cell$\\rightarrow$Run All).\n",
    "\n",
    "If a variable is given to you, give your answer to that variable. In case of multiple choice questions, answer to the given variable. Make sure your variable has a **string value** and it contains only the letter of your choice. For example if you think that choice b is the correct choice, and the given variable is answer, your answer should look like this:\n",
    "\n",
    "answer = 'b'\n",
    "\n",
    "or \n",
    "\n",
    "answer = 'B'\n",
    "\n",
    "If you need to read a file for a task, datafiles, such as .csv or .txt files are found in data subfolder. This can be accessed using data/filename.extension. In case of image, they are found in subfolder images. \n",
    "\n",
    "Make sure you fill in any place that says `YOUR CODE HERE` or \"YOUR ANSWER HERE\", as well as your name below:"
   ]
  },
  {
   "cell_type": "code",
   "execution_count": 1,
   "metadata": {},
   "outputs": [],
   "source": [
    "NAME = \"Kalpani Kammangoda Mudalige\""
   ]
  },
  {
   "cell_type": "markdown",
   "metadata": {},
   "source": [
    "---"
   ]
  },
  {
   "cell_type": "markdown",
   "metadata": {},
   "source": [
    "# Multi-Modal Data Fusion - Exercise 2: Common representation"
   ]
  },
  {
   "cell_type": "markdown",
   "metadata": {
    "deletable": false,
    "editable": false,
    "nbgrader": {
     "cell_type": "markdown",
     "checksum": "59dd1185b4f90adfa4a002d97808589f",
     "grade": false,
     "grade_id": "cell-ef8f152a42f34e93",
     "locked": true,
     "schema_version": 3,
     "solution": false,
     "task": false
    }
   },
   "source": [
    "\n",
    "## Learning goals\n",
    "\n",
    "After this exercise, you should\n",
    "  \n",
    "- be able to implement PCA on your own and use it from sklearn\n",
    "- be able to implement LDA algorithm\n",
    "- be able to implement bootstrapping algorithm\n",
    "- know how to apply (Gradient) Boosting algorithm for classification problem\n",
    "\n",
    "\n",
    "\n",
    "## Relevant lecture\n",
    "\n",
    "Lecture 3.\n",
    "\n",
    "## Relevant chapters in course book\n",
    "\n",
    "Chapter 4.\n",
    "\n",
    "## Additional material\n",
    "\n",
    "- Scikit-learn https://scikit-learn.org/stable/\n",
    "- Pandas https://pandas.pydata.org/docs/\n",
    "- numpy https://numpy.org/doc/stable/"
   ]
  },
  {
   "cell_type": "markdown",
   "metadata": {
    "deletable": false,
    "editable": false,
    "nbgrader": {
     "cell_type": "markdown",
     "checksum": "c55e7b4d2ae388071d4638812d2768c1",
     "grade": false,
     "grade_id": "cell-1f5a243760ff7346",
     "locked": true,
     "schema_version": 3,
     "solution": false,
     "task": false
    }
   },
   "source": [
    "# Assignments"
   ]
  },
  {
   "cell_type": "markdown",
   "metadata": {
    "deletable": false,
    "editable": false,
    "nbgrader": {
     "cell_type": "markdown",
     "checksum": "516e1589c85d25766df6199e451f189a",
     "grade": false,
     "grade_id": "cell-4855eb9b08d0e548",
     "locked": true,
     "schema_version": 3,
     "solution": false,
     "task": false
    }
   },
   "source": [
    "<a id='Task1.1'></a>\n",
    "<div class=\" alert alert-warning\">\n",
    "    <b>Problem 1: Bootstrapping</b>\n",
    "\n",
    "<p>Implement bootstrapping (see Lecture 3) to the function stub below. You may assume that D is the dataset given as Python list. M is the number of resamples drawn and N is the number of observations in the original dataset. The function should return MxN matrix where each row contains one bootstrapped sample. \n",
    "    \n",
    "Use of numpy is recommended, especially size() and tile(). Try to use as few for loops as possible.</p>\n",
    "\n",
    "</div>"
   ]
  },
  {
   "cell_type": "code",
   "execution_count": 2,
   "metadata": {
    "deletable": false,
    "nbgrader": {
     "cell_type": "code",
     "checksum": "e43934249fc2c1fcedffe98340063ab9",
     "grade": false,
     "grade_id": "problem_1_answer",
     "locked": false,
     "schema_version": 3,
     "solution": true,
     "task": false
    }
   },
   "outputs": [],
   "source": [
    "import numpy as np\n",
    "\n",
    "def bootstrap(D,M):\n",
    "    # Implement here\n",
    "    np.random.seed(0) #Do not change or remove\n",
    "    # YOUR CODE HERE\n",
    "    import random\n",
    "    resamples = np.tile(D, (M,1))\n",
    "    \n",
    "    for idx in range(M): \n",
    "        randomlist = []\n",
    "        for i in range(len(D)):\n",
    "            n = random.randint(min(D),max(D))\n",
    "            randomlist.append(n)\n",
    "\n",
    "        resamples[idx] = randomlist\n",
    "        \n",
    "    return resamples"
   ]
  },
  {
   "cell_type": "code",
   "execution_count": 3,
   "metadata": {
    "deletable": false,
    "editable": false,
    "nbgrader": {
     "cell_type": "code",
     "checksum": "5398eea296e2b15a10e2a3a3be0e2d9f",
     "grade": true,
     "grade_id": "problem_1_test",
     "locked": true,
     "points": 0.5,
     "schema_version": 3,
     "solution": false,
     "task": false
    }
   },
   "outputs": [],
   "source": [
    "# Your points for the Problem 1 will be given in this cell. Dont modify it."
   ]
  },
  {
   "cell_type": "markdown",
   "metadata": {
    "deletable": false,
    "editable": false,
    "nbgrader": {
     "cell_type": "markdown",
     "checksum": "d84933e12f48ce7d5752eb215c75d5c0",
     "grade": false,
     "grade_id": "cell-8b88c9f08163cb07",
     "locked": true,
     "schema_version": 3,
     "solution": false,
     "task": false
    }
   },
   "source": [
    "Sample usage of the bootstrapping algorithm."
   ]
  },
  {
   "cell_type": "code",
   "execution_count": 4,
   "metadata": {},
   "outputs": [
    {
     "data": {
      "text/plain": [
       "array([[10,  9,  5,  7,  4,  2, 10,  9,  2,  7],\n",
       "       [ 4,  4,  8,  1,  3,  6,  1,  4,  8,  7],\n",
       "       [ 5,  8,  2,  2,  5,  9,  5,  7,  1,  6]])"
      ]
     },
     "execution_count": 4,
     "metadata": {},
     "output_type": "execute_result"
    }
   ],
   "source": [
    "D = [1, 2, 3, 4, 5, 6, 7, 8, 9,10]\n",
    "bootstrap(D,3)"
   ]
  },
  {
   "cell_type": "markdown",
   "metadata": {
    "deletable": false,
    "editable": false,
    "nbgrader": {
     "cell_type": "markdown",
     "checksum": "bf767f3d64cc47ad1c90a6b90dc4de53",
     "grade": false,
     "grade_id": "cell-fc1db6630e031046",
     "locked": true,
     "schema_version": 3,
     "solution": false,
     "task": false
    }
   },
   "source": [
    "<a id='Task1.1'></a>\n",
    "<div class=\" alert alert-warning\">\n",
    "    <b>Problem 2: PCA</b>\n",
    "\n",
    "<p>Implement PCA algorithm as described in Lecture 3. Use data from pca_data.csv. Compute $\\mu$ and $\\Sigma$ as explained in lecture slides. Find eigenvalues and eigenvectors of $\\Sigma$. Pick the first principal component which corresponds to largest eigenvalue. Plot the data and first principal component in same figure. The line depicting the first principal component should start from mean $\\mu$ and end in $\\mu\\pm u_1$, where $u_1$ is the first principal component.</p>\n",
    "    \n",
    "<b>Remember to save results to following variables:</b>\n",
    "  <ul style=\"margin-top:-5px;\">\n",
    "    <li>mu</li>\n",
    "    <li>sigma</li>\n",
    "    <li>U</li>\n",
    "     <li>V</li>\n",
    "    <li>vec1</li>\n",
    "    <li>vec2</li>\n",
    "  </ul>\n",
    "\n",
    "</div>"
   ]
  },
  {
   "cell_type": "code",
   "execution_count": 5,
   "metadata": {},
   "outputs": [],
   "source": [
    "import numpy as np\n",
    "import matplotlib.pyplot as plt"
   ]
  },
  {
   "cell_type": "code",
   "execution_count": 6,
   "metadata": {
    "deletable": false,
    "nbgrader": {
     "cell_type": "code",
     "checksum": "deb94e31d8e38412ede1ddcd9827177d",
     "grade": false,
     "grade_id": "cell-a49152fbe19dc185",
     "locked": false,
     "schema_version": 3,
     "solution": true,
     "task": false
    }
   },
   "outputs": [
    {
     "data": {
      "image/png": "[encoded data removed]",
      "text/plain": [
       "<Figure size 432x288 with 1 Axes>"
      ]
     },
     "metadata": {
      "needs_background": "light"
     },
     "output_type": "display_data"
    }
   ],
   "source": [
    "# YOUR CODE HERE\n",
    "import pandas as pd\n",
    "\n",
    "data = np.genfromtxt('data/pca_data.csv', delimiter=',')\n",
    "#print(data)\n",
    "\n",
    "data_mean = sum(data)/len(data)\n",
    "#print(data_mean)\n",
    "\n",
    "data_centered = data - data_mean\n",
    "#print(data_centered)\n",
    "\n",
    "covariance = np.dot(np.transpose(data_centered),data_centered) / len(data_centered)\n",
    "#print(covariance)\n",
    "\n",
    "eigen_values , eigen_vectors = np.linalg.eigh(covariance) #eigenvalues and eigenvectors\n",
    "\n",
    "# print(eigen_values)\n",
    "# print(eigen_vectors)\n",
    "\n",
    "idx_maxval = list(eigen_values).index(max(eigen_values)) #index of the max eigen value\n",
    "# print(idx_maxval)\n",
    "\n",
    "pca1 = eigen_vectors[idx_maxval]\n",
    "#print(pca1)\n",
    "\n",
    "#plotting\n",
    "plt.scatter(data[:,0], data[:,1])\n",
    "\n",
    "plt.plot([data_mean[0], data_mean[0] + pca1[0]], [data_mean[1], data_mean[1] + pca1[1]]) #mu + u\n",
    "\n",
    "plt.plot([data_mean[0], data_mean[0] - pca1[0]], [data_mean[1], data_mean[1] - pca1[1]]) #mu - u\n",
    "\n",
    "\n",
    "mu = data_mean\n",
    "sigma = covariance\n",
    "U = eigen_values #Eigenvalues\n",
    "V = eigen_vectors #Eigenvectors\n",
    "vec1 = data_mean + pca1 #mu + u\n",
    "vec2 = data_mean - pca1 #mu - u"
   ]
  },
  {
   "cell_type": "code",
   "execution_count": 7,
   "metadata": {
    "deletable": false,
    "editable": false,
    "nbgrader": {
     "cell_type": "code",
     "checksum": "199a5a97c486991215ff6576414a66ea",
     "grade": true,
     "grade_id": "cell-5b73a128275a0045",
     "locked": true,
     "points": 0.5,
     "schema_version": 3,
     "solution": false,
     "task": false
    }
   },
   "outputs": [],
   "source": [
    "# Your points for the mean calculation will be given in this cell. Do not modify it."
   ]
  },
  {
   "cell_type": "code",
   "execution_count": 8,
   "metadata": {
    "deletable": false,
    "editable": false,
    "nbgrader": {
     "cell_type": "code",
     "checksum": "edc88c5a19f0186cc2e276eaf1f04776",
     "grade": true,
     "grade_id": "cell-cb6cecc2813c98ea",
     "locked": true,
     "points": 0.5,
     "schema_version": 3,
     "solution": false,
     "task": false
    }
   },
   "outputs": [],
   "source": [
    "# Your points for the sigma calculation will be given in this cell. Do not modify it."
   ]
  },
  {
   "cell_type": "code",
   "execution_count": 9,
   "metadata": {
    "deletable": false,
    "editable": false,
    "nbgrader": {
     "cell_type": "code",
     "checksum": "295b38600524e431d670d58679613c46",
     "grade": true,
     "grade_id": "cell-934df95be3d6b691",
     "locked": true,
     "points": 0.5,
     "schema_version": 3,
     "solution": false,
     "task": false
    }
   },
   "outputs": [],
   "source": [
    "# Your points for the eigen vectors calculation will be given in this cell. Do not modify it."
   ]
  },
  {
   "cell_type": "code",
   "execution_count": 10,
   "metadata": {
    "deletable": false,
    "editable": false,
    "nbgrader": {
     "cell_type": "code",
     "checksum": "5d7a82c4bd19f94350b142365281fe54",
     "grade": true,
     "grade_id": "cell-691becb386723f27",
     "locked": true,
     "points": 0.5,
     "schema_version": 3,
     "solution": false,
     "task": false
    }
   },
   "outputs": [],
   "source": [
    "# Your points for the eigen values calculation will be given in this cell. Do not modify it."
   ]
  },
  {
   "cell_type": "code",
   "execution_count": 11,
   "metadata": {
    "deletable": false,
    "editable": false,
    "nbgrader": {
     "cell_type": "code",
     "checksum": "e088b8c41583468b36c7cc0053bd07d1",
     "grade": true,
     "grade_id": "cell-f885401156abf42e",
     "locked": true,
     "points": 1,
     "schema_version": 3,
     "solution": false,
     "task": false
    }
   },
   "outputs": [],
   "source": [
    "# Your points for the vec1 and vec2 calculation will be given in this cell. Do not modify it"
   ]
  },
  {
   "cell_type": "markdown",
   "metadata": {
    "deletable": false,
    "editable": false,
    "nbgrader": {
     "cell_type": "markdown",
     "checksum": "b3ce504af708f7ba03f8dd43cd188371",
     "grade": false,
     "grade_id": "cell-3beb549f5e28a283",
     "locked": true,
     "schema_version": 3,
     "solution": false,
     "task": false
    }
   },
   "source": [
    "<a id='Task1.1'></a>\n",
    "<div class=\" alert alert-warning\">\n",
    "    <b>Problem 3: PCA using sklearn</b>\n",
    "\n",
    "<p>Consult documentation of sklearn on how to perform PCA using sklearn. Perform PCA using sklearn on same dataset as in Problem 2. Pick the model and train it (fit it) using same data as above.  Save first principal component to components variable (hint: its the components_ attribute of the pca object).\n",
    "\n",
    "Do you get the same results? If not, what might be a reason for it?</p>\n",
    "\n",
    "\n",
    "    \n",
    "</div>"
   ]
  },
  {
   "cell_type": "code",
   "execution_count": 12,
   "metadata": {
    "deletable": false,
    "nbgrader": {
     "cell_type": "code",
     "checksum": "c4e2ec9cf502ae4f0db7c0ee37e84e99",
     "grade": false,
     "grade_id": "cell-3677acc4f886c323",
     "locked": false,
     "schema_version": 3,
     "solution": true,
     "task": false
    }
   },
   "outputs": [],
   "source": [
    "from sklearn.decomposition import PCA\n",
    "\n",
    "pca = PCA(n_components=1)\n",
    "# YOUR CODE HERE\n",
    "pca.fit_transform(data)\n",
    "#print(pca.components_)\n",
    "\n",
    "components = pca.components_"
   ]
  },
  {
   "cell_type": "code",
   "execution_count": 13,
   "metadata": {
    "deletable": false,
    "editable": false,
    "nbgrader": {
     "cell_type": "code",
     "checksum": "59e6e52c7eb4ad6c9301e70d319e487a",
     "grade": true,
     "grade_id": "cell-1853e57148b5462f",
     "locked": true,
     "points": 0.8,
     "schema_version": 3,
     "solution": false,
     "task": false
    }
   },
   "outputs": [],
   "source": [
    "# Your points for the Problem 3 will be given in this cell. Dont modify it."
   ]
  },
  {
   "cell_type": "markdown",
   "metadata": {
    "deletable": false,
    "editable": false,
    "nbgrader": {
     "cell_type": "markdown",
     "checksum": "4736ecd62aab97ee245573dc67b24bda",
     "grade": false,
     "grade_id": "cell-e3a604d5b7ef028a",
     "locked": true,
     "schema_version": 3,
     "solution": false,
     "task": false
    }
   },
   "source": [
    "#### Compare results from Problem 2, and 3. Do you get the same results? If not, what might be a reason for it?\n"
   ]
  },
  {
   "cell_type": "markdown",
   "metadata": {
    "deletable": false,
    "nbgrader": {
     "cell_type": "markdown",
     "checksum": "6539e2c73c914a4fbcae1e5dd6bee228",
     "grade": true,
     "grade_id": "cell-92782484edc50c1a",
     "locked": false,
     "points": 0.2,
     "schema_version": 3,
     "solution": true,
     "task": false
    }
   },
   "source": [
    "I got same values but with different signs (Positive and Negative). To get the same sign we need to adapt same normalization  mechanism that sklearn does."
   ]
  },
  {
   "cell_type": "markdown",
   "metadata": {
    "deletable": false,
    "editable": false,
    "nbgrader": {
     "cell_type": "markdown",
     "checksum": "df1ece92034dd59bfee9d49622b64fc3",
     "grade": false,
     "grade_id": "cell-c8545261516a0580",
     "locked": true,
     "schema_version": 3,
     "solution": false,
     "task": false
    }
   },
   "source": [
    "<a id='Task1.1'></a>\n",
    "<div class=\" alert alert-warning\">\n",
    "    <b>Problem 4: LDA</b>\n",
    "\n",
    "<p>Implement LDA algorithm as described in Lecture 3. Use data from lda_data.csv. The data consists of x coordinate, y coordinate and class label (0 or 1). Compute the quantities appearing in lecture slides. The LDA projection operator $U$ consists of single column which is the eigenvector of $H$ corresponding to the largest eigenvalue. Plot the data points with different colors for each class and the LDA subspace (line) in same figure. The line depicting the LDA subspace should start from mean $\\mu_G$ and end in $\\mu_G\\pm u$, where $u$ is the direction of LDA subspace.</p>\n",
    "\n",
    "<b>Remember to save results to following variables:</b>\n",
    "  <ul style=\"margin-top:-5px;\">\n",
    "    <li>mu0, mu1, muG</li>\n",
    "    <li>sigma0, sigma1</li>\n",
    "     <li>sigmaW, sigmaB</li>\n",
    "    <li>H, U, V, u</li>\n",
    "    <li>vec1, vec2</li>\n",
    "  </ul>\n",
    "\n",
    "</div>"
   ]
  },
  {
   "cell_type": "code",
   "execution_count": 14,
   "metadata": {
    "deletable": false,
    "nbgrader": {
     "cell_type": "code",
     "checksum": "97fcfa725e6386efadafde2be66f4972",
     "grade": false,
     "grade_id": "cell-b9ab8a437fdba084",
     "locked": false,
     "schema_version": 3,
     "solution": true,
     "task": false
    }
   },
   "outputs": [
    {
     "data": {
      "image/png": "[encoded data removed]",
      "text/plain": [
       "<Figure size 432x288 with 1 Axes>"
      ]
     },
     "metadata": {
      "needs_background": "light"
     },
     "output_type": "display_data"
    }
   ],
   "source": [
    "# See Lecture 3 notes \n",
    "\n",
    "# YOUR CODE HERE\n",
    "def split(arr, cond):\n",
    "    return [arr[cond], arr[~cond]]\n",
    "\n",
    "data_lda = np.genfromtxt('data/lda_data.csv', delimiter=',')\n",
    "\n",
    "class0, class1 = split(data_lda, data_lda[:,2]==0)\n",
    "\n",
    "# print(class0)\n",
    "# print(class1)\n",
    "\n",
    "nk_0 = len(class0)\n",
    "nk_1 = len(class1)\n",
    "\n",
    "mu_0 = np.mean(class0[:, [0,1]], axis=0)\n",
    "mu_1 = np.mean(class1[:, [0,1]], axis=0)\n",
    "\n",
    "centered0 = class0[:, [0,1]] - mu_0\n",
    "centered1 = class1[:, [0,1]] - mu_1\n",
    "\n",
    "sigma_0 = np.dot(np.transpose(centered0), centered0) / nk_0\n",
    "sigma_1 = np.dot(np.transpose(centered1), centered1) / nk_1\n",
    "\n",
    "N = len(data_lda)\n",
    "#print(N)\n",
    "\n",
    "mu_G = ((nk_0*mu_0) + (nk_1*mu_1))/N\n",
    "#print(mu_G)\n",
    "\n",
    "\n",
    "sigma_W = ((nk_0*sigma_0) + (nk_1*sigma_1))/N\n",
    "#print(sigma_W)\n",
    "\n",
    "sigma_B = (nk_0 * (np.matrix(mu_0 - mu_G).T) * (mu_0 - mu_G) + nk_1 * (np.matrix(mu_1-mu_G).T) * (mu_1-mu_G))/N\n",
    "#print(sigma_B)\n",
    "\n",
    "H = np.linalg.inv(sigma_W)*(sigma_B)\n",
    "\n",
    "h_eigen_values,h_eigen_vectors =  np.linalg.eigh(H)\n",
    "# print(h_eigen_values)\n",
    "# print(h_eigen_vectors)\n",
    "\n",
    "idx_maxval = list(h_eigen_values).index(max(h_eigen_values)) #index of the max eigen value\n",
    "# print(idx_maxval)\n",
    "\n",
    "u = h_eigen_vectors[idx_maxval]\n",
    "#print(u)\n",
    "\n",
    "plt.scatter(class0[:,0], class0[:,1])\n",
    "plt.scatter(class1[:,0], class1[:,1])\n",
    "\n",
    "#plotting\n",
    "plt.plot([mu_G[0], mu_G[0] + u[0,0]], [mu_G[1], mu_G[1] + u[0,1]])\n",
    "plt.plot([mu_G[0], mu_G[0] - u[0,0]], [mu_G[1], mu_G[1] - u[0,1]])\n",
    "\n",
    "mu0 = mu_0 \n",
    "mu1 = mu_1\n",
    "muG = mu_G\n",
    "\n",
    "sigma0 = sigma_0\n",
    "sigma1 = sigma_1\n",
    "sigmaW = sigma_W\n",
    "sigmaB = sigma_B\n",
    "\n",
    "\n",
    "H = H\n",
    "\n",
    "U = eigen_values #Eigenvalues\n",
    "V = eigen_vectors #Eigenvectors\n",
    "u = u\n",
    "\n",
    "vec1 = muG + u #muG + u\n",
    "vec2 = muG - u #muG - u"
   ]
  },
  {
   "cell_type": "code",
   "execution_count": null,
   "metadata": {},
   "outputs": [],
   "source": []
  },
  {
   "cell_type": "code",
   "execution_count": 15,
   "metadata": {
    "deletable": false,
    "editable": false,
    "nbgrader": {
     "cell_type": "code",
     "checksum": "b5b010c46969768571ff5e81092f4f4e",
     "grade": true,
     "grade_id": "cell-4398adfd940f7844",
     "locked": true,
     "points": 0.5,
     "schema_version": 3,
     "solution": false,
     "task": false
    }
   },
   "outputs": [],
   "source": [
    "# Your points for the mean calculations will be given in this cell. Dont modify it."
   ]
  },
  {
   "cell_type": "code",
   "execution_count": 16,
   "metadata": {
    "deletable": false,
    "editable": false,
    "nbgrader": {
     "cell_type": "code",
     "checksum": "4406aa1b5392e07b975e7ada1f18c191",
     "grade": true,
     "grade_id": "cell-7d086a9dd61495b2",
     "locked": true,
     "points": 0.5,
     "schema_version": 3,
     "solution": false,
     "task": false
    }
   },
   "outputs": [],
   "source": [
    "# Your points for the sigma calculations will be given in this cell. Dont modify it."
   ]
  },
  {
   "cell_type": "code",
   "execution_count": 17,
   "metadata": {
    "deletable": false,
    "editable": false,
    "nbgrader": {
     "cell_type": "code",
     "checksum": "62a797a6f25f0ae15970dde2552a9037",
     "grade": true,
     "grade_id": "cell-afb5c89e92e2baa7",
     "locked": true,
     "points": 0.5,
     "schema_version": 3,
     "solution": false,
     "task": false
    }
   },
   "outputs": [],
   "source": [
    "# Your points for the H matrix calculation will be given in this cell. Dont modify it."
   ]
  },
  {
   "cell_type": "code",
   "execution_count": 18,
   "metadata": {
    "deletable": false,
    "editable": false,
    "nbgrader": {
     "cell_type": "code",
     "checksum": "f1166692250d75c715c47930866e3569",
     "grade": true,
     "grade_id": "cell-3e021d1aad12f587",
     "locked": true,
     "points": 0.5,
     "schema_version": 3,
     "solution": false,
     "task": false
    }
   },
   "outputs": [],
   "source": [
    "# Your points for the eigen values calculation will be given in this cell. Dont modify it."
   ]
  },
  {
   "cell_type": "code",
   "execution_count": 19,
   "metadata": {
    "deletable": false,
    "editable": false,
    "nbgrader": {
     "cell_type": "code",
     "checksum": "7afdb4c6edb2f6a0667bd7ee49e7ddc6",
     "grade": true,
     "grade_id": "cell-ddd826838f4d701a",
     "locked": true,
     "points": 0.5,
     "schema_version": 3,
     "solution": false,
     "task": false
    }
   },
   "outputs": [],
   "source": [
    "# Your points for the eigen vectors calculation will be given in this cell. Dont modify it."
   ]
  },
  {
   "cell_type": "code",
   "execution_count": 20,
   "metadata": {
    "deletable": false,
    "editable": false,
    "nbgrader": {
     "cell_type": "code",
     "checksum": "3a54ae3db2b14f5c07026f3d3be591be",
     "grade": true,
     "grade_id": "cell-05d94dc9390746fd",
     "locked": true,
     "points": 0.5,
     "schema_version": 3,
     "solution": false,
     "task": false
    }
   },
   "outputs": [],
   "source": [
    "# Your points for the vec_1 and vec_2 calculations will be given in this cell. Dont modify it."
   ]
  },
  {
   "cell_type": "markdown",
   "metadata": {
    "deletable": false,
    "editable": false,
    "nbgrader": {
     "cell_type": "markdown",
     "checksum": "81565dd6a4e1afaee2ffec0406986557",
     "grade": false,
     "grade_id": "cell-543c124d2c6ba006",
     "locked": true,
     "schema_version": 3,
     "solution": false,
     "task": false
    }
   },
   "source": [
    "<a id='Task1.1'></a>\n",
    "<div class=\" alert alert-warning\">\n",
    "    <b>Problem 5: Boosting</b>\n",
    "\n",
    "<p>Use the tab-separated(!) file wifi_localization.txt. The data allows to determine indoor room location from wifi signal strenghts. Last column of the file contains class labels of rooms while the first seven columns contains signal strengths of mobile phones. Split the dataset into training (70%), validation (15%) and testing sets (15%). Train GradientBoostingClassifier from sklearn using n_estimators between 1-40. Consult documentation of sklearn (or Google) on how to do this. Compute the validation score on validation set using score(). Plot scores against n. Pick the value for n giving highest score and train the model using training data. If there are multiple n with same (highest) score, choose the smallest n. For that n, plot confusion matrix for testing set.</p>\n",
    "\n",
    "<p>Use random_state = 0 in all functions that have random_state as a parameter (train_test_split and GradientBoostingClassifier). Do not change learning rate, or give learning_rate = 0.1 as a parameter.</p>\n",
    "    \n",
    "<b>Remember to save results to following variables:</b>\n",
    "  <ul style=\"margin-top:-5px;\">\n",
    "    <li>scores</li>\n",
    "    <li>best_score</li>\n",
    "     <li>ypred</li>\n",
    "    <li>matrix</li>\n",
    "  </ul>\n",
    "</div>"
   ]
  },
  {
   "cell_type": "code",
   "execution_count": 21,
   "metadata": {
    "deletable": false,
    "nbgrader": {
     "cell_type": "code",
     "checksum": "dccac98a70262241ad9a504e87a18780",
     "grade": false,
     "grade_id": "cell-e18cb50d0f4272d9",
     "locked": false,
     "schema_version": 3,
     "solution": true,
     "task": false
    }
   },
   "outputs": [
    {
     "name": "stderr",
     "output_type": "stream",
     "text": [
      "/opt/anaconda/anaconda3/lib/python3.9/site-packages/sklearn/utils/deprecation.py:87: FutureWarning: Function plot_confusion_matrix is deprecated; Function `plot_confusion_matrix` is deprecated in 1.0 and will be removed in 1.2. Use one of the class methods: ConfusionMatrixDisplay.from_predictions or ConfusionMatrixDisplay.from_estimator.\n",
      "  warnings.warn(msg, category=FutureWarning)\n"
     ]
    },
    {
     "data": {
      "image/png": "[encoded data removed]",
      "text/plain": [
       "<Figure size 432x288 with 1 Axes>"
      ]
     },
     "metadata": {
      "needs_background": "light"
     },
     "output_type": "display_data"
    },
    {
     "data": {
      "image/png": "[encoded data removed]",
      "text/plain": [
       "<Figure size 432x288 with 2 Axes>"
      ]
     },
     "metadata": {
      "needs_background": "light"
     },
     "output_type": "display_data"
    }
   ],
   "source": [
    "#Use random_state = 0 in all functions with that parameter\n",
    "\n",
    "# YOUR CODE HERE\n",
    "from sklearn.model_selection import train_test_split\n",
    "from sklearn.ensemble import GradientBoostingClassifier\n",
    "from sklearn import metrics\n",
    "\n",
    "d_wifi = np.genfromtxt('data/wifi_localization.txt', delimiter = '\\t')\n",
    "labels = d_wifi[:,-1]\n",
    "\n",
    "d_wifi = np.delete(d_wifi, -1, 1)\n",
    "\n",
    "wifi_train, wifi_test, wifi_train_labels, wifi_test_labels = train_test_split(d_wifi, labels, random_state = 0, train_size=0.7)\n",
    "\n",
    "wifi_valid, wifi_test, wifi_valid_labels, wifi_test_labels = train_test_split(wifi_test,wifi_test_labels,random_state = 0, test_size=0.5)\n",
    "\n",
    "\n",
    "validation_scores = []\n",
    "for estimator in range(1,40):\n",
    "    model = GradientBoostingClassifier(n_estimators=estimator, learning_rate=0.1,random_state=0)\n",
    "    model.fit(wifi_train, wifi_train_labels)\n",
    "    train_pred = model.predict(wifi_train)\n",
    "    validation_scores.append((estimator,model.score(wifi_valid, wifi_valid_labels)))\n",
    "\n",
    "best_validation_score = sorted(validation_scores,key=lambda x: x[1], reverse=True)[0]\n",
    "\n",
    "#print(best_validation_score[0])\n",
    "\n",
    "score_values = []\n",
    "n = []\n",
    "for i in validation_scores:\n",
    "    n.append(i[0])\n",
    "    score_values.append(i[1])\n",
    "    \n",
    "plt.plot(n,score_values) #plot scores and n values\n",
    "\n",
    "scores = score_values # Array of size 39 (range 1-40) with score values. For index i score is calculated with n_estimators=i\n",
    "best_score = best_validation_score[0] # The index (n_estimators) of scores with the largest value (If several, choose smallest n)\n",
    "\n",
    "# Create new gradient boosting classifier with n_estimators = best_score\n",
    "GBClassifier = GradientBoostingClassifier(n_estimators=best_score, learning_rate=0.1,random_state=0)\n",
    "ypred = GBClassifier.fit(wifi_test, wifi_test_labels)# Predict class for test set \n",
    "matrix = metrics.plot_confusion_matrix(GBClassifier, wifi_test, wifi_test_labels) # Confusion matrix for testing set"
   ]
  },
  {
   "cell_type": "code",
   "execution_count": 22,
   "metadata": {
    "deletable": false,
    "editable": false,
    "nbgrader": {
     "cell_type": "code",
     "checksum": "ad55df53b1fe2c98d864e914e87f48e4",
     "grade": true,
     "grade_id": "cell-3efe690f6c8b8f1b",
     "locked": true,
     "points": 0.75,
     "schema_version": 3,
     "solution": false,
     "task": false
    }
   },
   "outputs": [],
   "source": [
    "# Your points for the Problem 5 confusion matrix will be given in this cell. Dont modify it."
   ]
  },
  {
   "cell_type": "code",
   "execution_count": 23,
   "metadata": {
    "deletable": false,
    "editable": false,
    "nbgrader": {
     "cell_type": "code",
     "checksum": "9bf66fc68affdeba46100b37d0f65ced",
     "grade": true,
     "grade_id": "cell-49d5e5e29751723d",
     "locked": true,
     "points": 0.75,
     "schema_version": 3,
     "solution": false,
     "task": false
    }
   },
   "outputs": [],
   "source": [
    "# Your points for the Problem 5 predictions will be given in this cell. Dont modify it."
   ]
  },
  {
   "cell_type": "code",
   "execution_count": 24,
   "metadata": {
    "deletable": false,
    "editable": false,
    "nbgrader": {
     "cell_type": "code",
     "checksum": "d79f33d2e51a30d1aa3b58a0fb80fabe",
     "grade": true,
     "grade_id": "cell-50a54e1e5c02907b",
     "locked": true,
     "points": 0.75,
     "schema_version": 3,
     "solution": false,
     "task": false
    }
   },
   "outputs": [],
   "source": [
    "# Your points for the Problem 5 scores will be given in this cell. Dont modify it."
   ]
  },
  {
   "cell_type": "code",
   "execution_count": 25,
   "metadata": {
    "deletable": false,
    "editable": false,
    "nbgrader": {
     "cell_type": "code",
     "checksum": "252987ad805dd37452d8e14bf4b70bc7",
     "grade": true,
     "grade_id": "cell-4625f19886acb505",
     "locked": true,
     "points": 0.25,
     "schema_version": 3,
     "solution": false,
     "task": false
    }
   },
   "outputs": [],
   "source": [
    "# Your points for the Problem 5 best score will be given in this cell. Dont modify it."
   ]
  }
 ],
 "metadata": {
  "kernelspec": {
   "display_name": "Python 3 (ipykernel)",
   "language": "python",
   "name": "python3"
  },
  "language_info": {
   "codemirror_mode": {
    "name": "ipython",
    "version": 3
   },
   "file_extension": ".py",
   "mimetype": "text/x-python",
   "name": "python",
   "nbconvert_exporter": "python",
   "pygments_lexer": "ipython3",
   "version": "3.9.12"
  },
  "nbdime-conflicts": {
   "local_diff": [
    {
     "diff": [
      {
       "diff": [
        {
         "diff": [
          {
           "key": 4,
           "op": "addrange",
           "valuelist": "3"
          },
          {
           "key": 4,
           "length": 1,
           "op": "removerange"
          }
         ],
         "key": 0,
         "op": "patch"
        }
       ],
       "key": "version",
       "op": "patch"
      }
     ],
     "key": "language_info",
     "op": "patch"
    }
   ],
   "remote_diff": [
    {
     "diff": [
      {
       "diff": [
        {
         "diff": [
          {
           "key": 4,
           "op": "addrange",
           "valuelist": "4"
          },
          {
           "key": 4,
           "length": 1,
           "op": "removerange"
          }
         ],
         "key": 0,
         "op": "patch"
        }
       ],
       "key": "version",
       "op": "patch"
      }
     ],
     "key": "language_info",
     "op": "patch"
    }
   ]
  },
  "toc": {
   "base_numbering": 1,
   "nav_menu": {},
   "number_sections": false,
   "sideBar": true,
   "skip_h1_title": false,
   "title_cell": "Table of Contents",
   "title_sidebar": "Contents",
   "toc_cell": false,
   "toc_position": {
    "height": "507.275px",
    "left": "23.975px",
    "top": "145.5px",
    "width": "318px"
   },
   "toc_section_display": true,
   "toc_window_display": true
  },
  "varInspector": {
   "cols": {
    "lenName": 16,
    "lenType": 16,
    "lenVar": 40
   },
   "kernels_config": {
    "python": {
     "delete_cmd_postfix": "",
     "delete_cmd_prefix": "del ",
     "library": "var_list.py",
     "varRefreshCmd": "print(var_dic_list())"
    },
    "r": {
     "delete_cmd_postfix": ") ",
     "delete_cmd_prefix": "rm(",
     "library": "var_list.r",
     "varRefreshCmd": "cat(var_dic_list()) "
    }
   },
   "oldHeight": 194.85,
   "position": {
    "height": "216.85px",
    "left": "1417px",
    "right": "18px",
    "top": "126px",
    "width": "485px"
   },
   "types_to_exclude": [
    "module",
    "function",
    "builtin_function_or_method",
    "instance",
    "_Feature"
   ],
   "varInspector_section_display": "block",
   "window_display": true
  }
 },
 "nbformat": 4,
 "nbformat_minor": 2
}
